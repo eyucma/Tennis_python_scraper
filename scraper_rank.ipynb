{
 "cells": [
  {
   "cell_type": "code",
   "execution_count": null,
   "id": "181822e9",
   "metadata": {},
   "outputs": [],
   "source": [
    "from utils_scrape import *\n",
    "import os\n",
    "import pandas as pd\n",
    "import numpy as np\n",
    "from collections import defaultdict\n",
    "import datetime"
   ]
  },
  {
   "cell_type": "code",
   "execution_count": null,
   "id": "1f207691",
   "metadata": {},
   "outputs": [],
   "source": [
    "%run -i keys.py"
   ]
  },
  {
   "cell_type": "markdown",
   "id": "7ca6867a",
   "metadata": {},
   "source": [
    "## Rankings Data"
   ]
  },
  {
   "cell_type": "code",
   "execution_count": 345,
   "id": "6120b712",
   "metadata": {},
   "outputs": [],
   "source": [
    "df_m=fetch_data(ranking_links, \"https://raw.githubusercontent.com\")\n",
    "assert not any(df_m.player.isna())\n"
   ]
  },
  {
   "cell_type": "code",
   "execution_count": 346,
   "id": "2a951bb9",
   "metadata": {},
   "outputs": [],
   "source": [
    "df_m.loc[~df_m.ranking_date.isna(), 'ranking_date']=df_m.ranking_date.loc[~df_m.ranking_date.isna()].astype(str)"
   ]
  },
  {
   "cell_type": "code",
   "execution_count": 347,
   "id": "2cd0b157",
   "metadata": {},
   "outputs": [],
   "source": [
    "df_m['year_invalid']=False\n",
    "df_m['month_invalid']=False\n",
    "df_m['day_invalid']=False\n",
    "df_m=df_m.apply(lambda x: date_cleaner(x,'ranking_date'),axis=1)"
   ]
  },
  {
   "cell_type": "code",
   "execution_count": 349,
   "id": "7f29275d",
   "metadata": {
    "scrolled": true
   },
   "outputs": [
    {
     "data": {
      "text/html": [
       "<div>\n",
       "<style scoped>\n",
       "    .dataframe tbody tr th:only-of-type {\n",
       "        vertical-align: middle;\n",
       "    }\n",
       "\n",
       "    .dataframe tbody tr th {\n",
       "        vertical-align: top;\n",
       "    }\n",
       "\n",
       "    .dataframe thead th {\n",
       "        text-align: right;\n",
       "    }\n",
       "</style>\n",
       "<table border=\"1\" class=\"dataframe\">\n",
       "  <thead>\n",
       "    <tr style=\"text-align: right;\">\n",
       "      <th></th>\n",
       "      <th>ranking_date</th>\n",
       "      <th>rank</th>\n",
       "      <th>player</th>\n",
       "      <th>points</th>\n",
       "      <th>year_invalid</th>\n",
       "      <th>month_invalid</th>\n",
       "      <th>day_invalid</th>\n",
       "    </tr>\n",
       "  </thead>\n",
       "  <tbody>\n",
       "    <tr>\n",
       "      <th>0</th>\n",
       "      <td>2000/01/10</td>\n",
       "      <td>1</td>\n",
       "      <td>101736</td>\n",
       "      <td>4135.0</td>\n",
       "      <td>False</td>\n",
       "      <td>False</td>\n",
       "      <td>False</td>\n",
       "    </tr>\n",
       "    <tr>\n",
       "      <th>1</th>\n",
       "      <td>2000/01/10</td>\n",
       "      <td>2</td>\n",
       "      <td>102338</td>\n",
       "      <td>2915.0</td>\n",
       "      <td>False</td>\n",
       "      <td>False</td>\n",
       "      <td>False</td>\n",
       "    </tr>\n",
       "    <tr>\n",
       "      <th>2</th>\n",
       "      <td>2000/01/10</td>\n",
       "      <td>3</td>\n",
       "      <td>101948</td>\n",
       "      <td>2419.0</td>\n",
       "      <td>False</td>\n",
       "      <td>False</td>\n",
       "      <td>False</td>\n",
       "    </tr>\n",
       "    <tr>\n",
       "      <th>3</th>\n",
       "      <td>2000/01/10</td>\n",
       "      <td>4</td>\n",
       "      <td>103017</td>\n",
       "      <td>2184.0</td>\n",
       "      <td>False</td>\n",
       "      <td>False</td>\n",
       "      <td>False</td>\n",
       "    </tr>\n",
       "    <tr>\n",
       "      <th>4</th>\n",
       "      <td>2000/01/10</td>\n",
       "      <td>5</td>\n",
       "      <td>102856</td>\n",
       "      <td>2169.0</td>\n",
       "      <td>False</td>\n",
       "      <td>False</td>\n",
       "      <td>False</td>\n",
       "    </tr>\n",
       "    <tr>\n",
       "      <th>...</th>\n",
       "      <td>...</td>\n",
       "      <td>...</td>\n",
       "      <td>...</td>\n",
       "      <td>...</td>\n",
       "      <td>...</td>\n",
       "      <td>...</td>\n",
       "      <td>...</td>\n",
       "    </tr>\n",
       "    <tr>\n",
       "      <th>3235634</th>\n",
       "      <td>2024/05/27</td>\n",
       "      <td>2070</td>\n",
       "      <td>211388</td>\n",
       "      <td>1.0</td>\n",
       "      <td>False</td>\n",
       "      <td>False</td>\n",
       "      <td>False</td>\n",
       "    </tr>\n",
       "    <tr>\n",
       "      <th>3235635</th>\n",
       "      <td>2024/05/27</td>\n",
       "      <td>2071</td>\n",
       "      <td>210649</td>\n",
       "      <td>1.0</td>\n",
       "      <td>False</td>\n",
       "      <td>False</td>\n",
       "      <td>False</td>\n",
       "    </tr>\n",
       "    <tr>\n",
       "      <th>3235636</th>\n",
       "      <td>2024/05/27</td>\n",
       "      <td>2071</td>\n",
       "      <td>208890</td>\n",
       "      <td>1.0</td>\n",
       "      <td>False</td>\n",
       "      <td>False</td>\n",
       "      <td>False</td>\n",
       "    </tr>\n",
       "    <tr>\n",
       "      <th>3235637</th>\n",
       "      <td>2024/05/27</td>\n",
       "      <td>2073</td>\n",
       "      <td>202079</td>\n",
       "      <td>1.0</td>\n",
       "      <td>False</td>\n",
       "      <td>False</td>\n",
       "      <td>False</td>\n",
       "    </tr>\n",
       "    <tr>\n",
       "      <th>3235638</th>\n",
       "      <td>2024/05/27</td>\n",
       "      <td>2073</td>\n",
       "      <td>207982</td>\n",
       "      <td>1.0</td>\n",
       "      <td>False</td>\n",
       "      <td>False</td>\n",
       "      <td>False</td>\n",
       "    </tr>\n",
       "  </tbody>\n",
       "</table>\n",
       "<p>3235639 rows × 7 columns</p>\n",
       "</div>"
      ],
      "text/plain": [
       "        ranking_date  rank  player  points  year_invalid  month_invalid  \\\n",
       "0         2000/01/10     1  101736  4135.0         False          False   \n",
       "1         2000/01/10     2  102338  2915.0         False          False   \n",
       "2         2000/01/10     3  101948  2419.0         False          False   \n",
       "3         2000/01/10     4  103017  2184.0         False          False   \n",
       "4         2000/01/10     5  102856  2169.0         False          False   \n",
       "...              ...   ...     ...     ...           ...            ...   \n",
       "3235634   2024/05/27  2070  211388     1.0         False          False   \n",
       "3235635   2024/05/27  2071  210649     1.0         False          False   \n",
       "3235636   2024/05/27  2071  208890     1.0         False          False   \n",
       "3235637   2024/05/27  2073  202079     1.0         False          False   \n",
       "3235638   2024/05/27  2073  207982     1.0         False          False   \n",
       "\n",
       "         day_invalid  \n",
       "0              False  \n",
       "1              False  \n",
       "2              False  \n",
       "3              False  \n",
       "4              False  \n",
       "...              ...  \n",
       "3235634        False  \n",
       "3235635        False  \n",
       "3235636        False  \n",
       "3235637        False  \n",
       "3235638        False  \n",
       "\n",
       "[3235639 rows x 7 columns]"
      ]
     },
     "execution_count": 349,
     "metadata": {},
     "output_type": "execute_result"
    }
   ],
   "source": [
    "df_m"
   ]
  },
  {
   "cell_type": "code",
   "execution_count": 372,
   "id": "4d4165df",
   "metadata": {},
   "outputs": [],
   "source": [
    "if not df_m.loc[:,['year_invalid','month_invalid','day_invalid']].any().any():\n",
    "    df_m=df_m.iloc[:,:-3]\n"
   ]
  },
  {
   "cell_type": "code",
   "execution_count": 373,
   "id": "1f49ed31",
   "metadata": {},
   "outputs": [],
   "source": [
    "df_m.to_csv('csvs/atp_rankings.csv', index=False)"
   ]
  },
  {
   "cell_type": "code",
   "execution_count": null,
   "id": "c1714d48",
   "metadata": {},
   "outputs": [],
   "source": []
  }
 ],
 "metadata": {
  "kernelspec": {
   "display_name": "Python 3 (ipykernel)",
   "language": "python",
   "name": "python3"
  },
  "language_info": {
   "codemirror_mode": {
    "name": "ipython",
    "version": 3
   },
   "file_extension": ".py",
   "mimetype": "text/x-python",
   "name": "python",
   "nbconvert_exporter": "python",
   "pygments_lexer": "ipython3",
   "version": "3.9.13"
  }
 },
 "nbformat": 4,
 "nbformat_minor": 5
}
