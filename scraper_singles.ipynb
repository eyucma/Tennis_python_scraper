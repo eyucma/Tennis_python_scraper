{
 "cells": [
  {
   "cell_type": "code",
   "execution_count": 2,
   "id": "c374ac3b",
   "metadata": {},
   "outputs": [],
   "source": [
    "from utils_scrape import *\n",
    "import os\n",
    "import pandas as pd\n",
    "import numpy as np\n",
    "from collections import defaultdict\n",
    "import datetime"
   ]
  },
  {
   "cell_type": "code",
   "execution_count": 3,
   "id": "da5c98b9-f862-46bc-96de-887e61504de0",
   "metadata": {},
   "outputs": [],
   "source": [
    "%load_ext autoreload\n",
    "%autoreload 2"
   ]
  },
  {
   "cell_type": "code",
   "execution_count": 19,
   "id": "785b167d",
   "metadata": {},
   "outputs": [],
   "source": [
    "%run -i keys.py"
   ]
  },
  {
   "cell_type": "markdown",
   "id": "a975f03d",
   "metadata": {},
   "source": [
    "### Match Data - Singles"
   ]
  },
  {
   "cell_type": "code",
   "execution_count": 21,
   "id": "60a155db",
   "metadata": {},
   "outputs": [],
   "source": [
    "singles=[i for i in match_links if 'doub' not in i]\n",
    "singles=[i for i in singles if ('futures' not in i) and ('amateur' not in i)]"
   ]
  },
  {
   "cell_type": "code",
   "execution_count": 6,
   "id": "2faf0f8a",
   "metadata": {},
   "outputs": [],
   "source": [
    "def parse(t):\n",
    "    string_ = str(t)\n",
    "    try:\n",
    "        return datetime.date(int(string_[:4]), int(string_[4:6]), int(string_[6:]))\n",
    "    except:\n",
    "        print (\"Error\",len(string_),string_)\n",
    "        return datetime.date(1900,1,1)\n",
    "    \n",
    "#date_parser is depreciated in pd v2.0.0, making this function redundant"
   ]
  },
  {
   "cell_type": "code",
   "execution_count": 7,
   "id": "590d2db2-3bd2-4d1b-a2cb-c0c7de5ca86c",
   "metadata": {},
   "outputs": [],
   "source": [
    "dtypes={'tourney_id': 'str',\n",
    "        'draw_size': 'str',\n",
    "        'winner_id': 'Int64',\n",
    "        'loser_id': 'Int64',\n",
    "       }"
   ]
  },
  {
   "cell_type": "code",
   "execution_count": 29,
   "id": "bb3cdcd0",
   "metadata": {},
   "outputs": [],
   "source": [
    "df=fetch_data(singles,\n",
    "              \"https://raw.githubusercontent.com\",\n",
    "              dtype=dtypes,\n",
    "              date_format='%Y%m%d',\n",
    "              parse_dates=['tourney_date'])"
   ]
  },
  {
   "cell_type": "code",
   "execution_count": 31,
   "id": "80ffc797",
   "metadata": {},
   "outputs": [],
   "source": [
    "#Manual adjustments (necessarily as one can't determine these without looking at other databases)\n",
    "df.loc[(df.tourney_id=='1963-580')&(df.match_num==22),'score']=\"6-3 6-4 4-6 6-3\" \n",
    "df.loc[(df.tourney_id=='2001-M-SA-ITA-03A-2001a')&(df.match_num==9),'score']=\"6-3 6-3\" \n",
    "df.loc[(df.tourney_id=='1918-560')&(df.match_num==14),'score']=\"6-4 6-0 6-3\""
   ]
  },
  {
   "cell_type": "code",
   "execution_count": 32,
   "id": "09031546",
   "metadata": {
    "scrolled": true
   },
   "outputs": [],
   "source": [
    "df['retirement']=df.score.apply(ret_parser)\n",
    "df.loc[:,'score']=df.score.apply(sc_clean)\n",
    "df=df.sort_values(by=['tourney_date','tourney_id','match_num'])"
   ]
  },
  {
   "cell_type": "code",
   "execution_count": 33,
   "id": "ce31e32f",
   "metadata": {},
   "outputs": [],
   "source": [
    "games=pd.DataFrame(games_ext(df.score),\n",
    "                   columns=['W'+str(i+1) for i in range(5)]+['L'+str(i+1) for i in range(5)])\n",
    "df=pd.concat([df,games],axis=1)"
   ]
  },
  {
   "cell_type": "code",
   "execution_count": 34,
   "id": "f4932a2a",
   "metadata": {
    "scrolled": true
   },
   "outputs": [],
   "source": [
    "relabel={'G': 'Grand Slam',\n",
    "         'D': 'Davis Cup',\n",
    "         'M': 'Masters',\n",
    "         'C': 'Challenger',\n",
    "         'S': 'Futures',         \n",
    "}\n",
    "df['tourney_level']=df.tourney_level.replace(relabel)"
   ]
  },
  {
   "cell_type": "code",
   "execution_count": 35,
   "id": "e060c808",
   "metadata": {},
   "outputs": [],
   "source": [
    "df.to_csv('csvs/atp_matches.csv', index=False)"
   ]
  },
  {
   "cell_type": "markdown",
   "id": "182eafeb-fe35-416c-a570-833caa1dfcab",
   "metadata": {},
   "source": [
    "## Reading"
   ]
  },
  {
   "cell_type": "code",
   "execution_count": 235,
   "id": "7cf33036-6e68-4f3c-879f-01fa52f0017a",
   "metadata": {},
   "outputs": [],
   "source": [
    "dtypes={'tourney_id': str,\n",
    "        'draw_size': str,\n",
    "        'winner_id': 'Int64',\n",
    "        'loser_id': 'Int64',\n",
    "        'winner_seed':  str,\n",
    "        'winner_entry': str,\n",
    "        'loser_entry': str,\n",
    "        'loser_seed':  str,\n",
    "       }\n",
    "\n",
    "dtypes={**dtypes,**{'W'+str(i+1):'Int64' for i in range(5)},**{'L'+str(i+1):'Int64' for i in range(5)}}"
   ]
  },
  {
   "cell_type": "code",
   "execution_count": 236,
   "id": "29a3d998",
   "metadata": {},
   "outputs": [],
   "source": [
    "dfr=pd.read_csv('csvs/atp_matches.csv',dtype=dtypes, date_format='%Y%m%d',parse_dates=['tourney_date'])"
   ]
  },
  {
   "cell_type": "markdown",
   "id": "4d5fde7c-954a-4e1c-9fa9-df5df2663bb2",
   "metadata": {},
   "source": [
    "## Cleaning"
   ]
  },
  {
   "cell_type": "code",
   "execution_count": null,
   "id": "ee793ae2-0b2d-4bbc-a1ec-4ca444fc29fa",
   "metadata": {},
   "outputs": [],
   "source": []
  }
 ],
 "metadata": {
  "kernelspec": {
   "display_name": "Python 3 (ipykernel)",
   "language": "python",
   "name": "python3"
  },
  "language_info": {
   "codemirror_mode": {
    "name": "ipython",
    "version": 3
   },
   "file_extension": ".py",
   "mimetype": "text/x-python",
   "name": "python",
   "nbconvert_exporter": "python",
   "pygments_lexer": "ipython3",
   "version": "3.12.5"
  }
 },
 "nbformat": 4,
 "nbformat_minor": 5
}
