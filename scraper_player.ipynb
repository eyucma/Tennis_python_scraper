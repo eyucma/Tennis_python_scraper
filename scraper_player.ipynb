{
 "cells": [
  {
   "cell_type": "code",
   "execution_count": 2,
   "id": "fe755fdb",
   "metadata": {},
   "outputs": [],
   "source": [
    "from utils_scrape import *\n",
    "import os\n",
    "import pandas as pd\n",
    "import numpy as np\n",
    "from collections import defaultdict\n",
    "import datetime"
   ]
  },
  {
   "cell_type": "code",
   "execution_count": 5,
   "id": "785b167d",
   "metadata": {},
   "outputs": [],
   "source": [
    "%run -i keys.py"
   ]
  },
  {
   "cell_type": "markdown",
   "id": "72832774",
   "metadata": {},
   "source": [
    "### Player Data"
   ]
  },
  {
   "cell_type": "code",
   "execution_count": 19,
   "id": "f1384650",
   "metadata": {},
   "outputs": [],
   "source": [
    "df_player=fetch_data(player_links, \"https://raw.githubusercontent.com\", parse_dates=['dob'],date_format='%Y%m%d')\n",
    "df_player=df_player.loc[(df_player.name_first != \"\") | (df_player.name_last != \"\"),]\n",
    "first = df_player.name_first.isna() | (df_player.name_first == \"\")\n",
    "second = df_player.name_last.isna() | (df_player.name_last == \"\")\n",
    "df_player=df_player.loc[~(first & second),:]"
   ]
  },
  {
   "cell_type": "code",
   "execution_count": 20,
   "id": "082adf45",
   "metadata": {},
   "outputs": [],
   "source": [
    "first = df_player.name_first.isna() | (df_player.name_first == \"\")\n",
    "second = df_player.name_last.isna() | (df_player.name_last == \"\")\n",
    "hand = df_player.hand.isna() | (df_player.hand == \"\")\n",
    "df_player['name_invalid']=first | second\n",
    "df_player.loc[hand,'hand'] = 'U'\n",
    "df_player['name_full'] = df_player.name_first+' '+df_player.name_last"
   ]
  },
  {
   "cell_type": "code",
   "execution_count": 21,
   "id": "6400d4b9",
   "metadata": {},
   "outputs": [],
   "source": [
    "df_player['year_invalid']=False\n",
    "df_player['month_invalid']=False\n",
    "df_player['day_invalid']=False"
   ]
  },
  {
   "cell_type": "code",
   "execution_count": 24,
   "id": "8866837a",
   "metadata": {},
   "outputs": [
    {
     "data": {
      "text/html": [
       "<div>\n",
       "<style scoped>\n",
       "    .dataframe tbody tr th:only-of-type {\n",
       "        vertical-align: middle;\n",
       "    }\n",
       "\n",
       "    .dataframe tbody tr th {\n",
       "        vertical-align: top;\n",
       "    }\n",
       "\n",
       "    .dataframe thead th {\n",
       "        text-align: right;\n",
       "    }\n",
       "</style>\n",
       "<table border=\"1\" class=\"dataframe\">\n",
       "  <thead>\n",
       "    <tr style=\"text-align: right;\">\n",
       "      <th></th>\n",
       "      <th>player_id</th>\n",
       "      <th>name_first</th>\n",
       "      <th>name_last</th>\n",
       "      <th>hand</th>\n",
       "      <th>dob</th>\n",
       "      <th>ioc</th>\n",
       "      <th>height</th>\n",
       "      <th>wikidata_id</th>\n",
       "      <th>name_invalid</th>\n",
       "      <th>name_full</th>\n",
       "      <th>year_invalid</th>\n",
       "      <th>month_invalid</th>\n",
       "      <th>day_invalid</th>\n",
       "    </tr>\n",
       "  </thead>\n",
       "  <tbody>\n",
       "  </tbody>\n",
       "</table>\n",
       "</div>"
      ],
      "text/plain": [
       "Empty DataFrame\n",
       "Columns: [player_id, name_first, name_last, hand, dob, ioc, height, wikidata_id, name_invalid, name_full, year_invalid, month_invalid, day_invalid]\n",
       "Index: []"
      ]
     },
     "execution_count": 24,
     "metadata": {},
     "output_type": "execute_result"
    }
   ],
   "source": [
    "df_player.loc[df_player.month_invalid & ~df_player.year_invalid,]"
   ]
  },
  {
   "cell_type": "code",
   "execution_count": 25,
   "id": "92bad586",
   "metadata": {},
   "outputs": [],
   "source": [
    "df_player=df_player.apply(lambda x: date_cleaner(x,'dob'),axis=1)"
   ]
  },
  {
   "cell_type": "code",
   "execution_count": 27,
   "id": "23508415",
   "metadata": {},
   "outputs": [],
   "source": [
    "df_player.to_csv('csvs/atp_players.csv', index=False)"
   ]
  },
  {
   "cell_type": "code",
   "execution_count": null,
   "id": "617c3f57-3ecb-4243-a51e-f8fc7313d8c8",
   "metadata": {},
   "outputs": [],
   "source": []
  }
 ],
 "metadata": {
  "kernelspec": {
   "display_name": "Python 3 (ipykernel)",
   "language": "python",
   "name": "python3"
  },
  "language_info": {
   "codemirror_mode": {
    "name": "ipython",
    "version": 3
   },
   "file_extension": ".py",
   "mimetype": "text/x-python",
   "name": "python",
   "nbconvert_exporter": "python",
   "pygments_lexer": "ipython3",
   "version": "3.12.5"
  }
 },
 "nbformat": 4,
 "nbformat_minor": 5
}
